{
 "cells": [
  {
   "cell_type": "code",
   "execution_count": null,
   "id": "initial_id",
   "metadata": {
    "collapsed": true,
    "is_executing": true
   },
   "outputs": [],
   "source": [
    "from src.search.simulation import plot_single_result, simulate\n",
    "from src.search.strategy.random_walker_1 import RandomWalker1StrategyParams\n",
    "\n",
    "res = simulate(\n",
    "    graph_strategy=\"random_normal_variate\",\n",
    "    grid_width=40,\n",
    "    grid_height=40,\n",
    "    num_distinct_information=100,\n",
    "    random_walker_strategy=\"random_walker_1\",\n",
    "    random_walker_strategy_params=RandomWalker1StrategyParams(\n",
    "        random_probability=0.9,\n",
    "        random_probability_of_adding_edge=0.005,\n",
    "        length_of_memory=150,\n",
    "    ),\n",
    "    num_random_walker=10,\n",
    "    searched_information=50,\n",
    "    max_steps=500,\n",
    ")\n",
    "\n",
    "plot_single_result(res)\n"
   ]
  },
  {
   "cell_type": "code",
   "execution_count": null,
   "outputs": [],
   "source": [],
   "metadata": {
    "collapsed": false,
    "is_executing": true
   },
   "id": "c4932765ec303d4d"
  }
 ],
 "metadata": {
  "kernelspec": {
   "display_name": "Python 3",
   "language": "python",
   "name": "python3"
  },
  "language_info": {
   "codemirror_mode": {
    "name": "ipython",
    "version": 2
   },
   "file_extension": ".py",
   "mimetype": "text/x-python",
   "name": "python",
   "nbconvert_exporter": "python",
   "pygments_lexer": "ipython2",
   "version": "2.7.6"
  }
 },
 "nbformat": 4,
 "nbformat_minor": 5
}
